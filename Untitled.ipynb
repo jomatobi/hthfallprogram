{
 "cells": [
  {
   "cell_type": "code",
   "execution_count": null,
   "id": "fc942bb1",
   "metadata": {},
   "outputs": [],
   "source": [
    "import pandas\n",
    "import seaborn\n",
    "import matplotlib.pyplot as plt\n",
    "\n",
    "''' \n",
    "The best way to complete this activity is to copy the code in this file into a jupyter notebook file you create. This will also you to see your visualizations easier. Once you have finished creating your visuals copy your code back into this file and submit it to Replit. Don't forget to also upload your new code to Github! \n",
    "'''\n",
    "# call in our titanic csv\n",
    "titanic_data = pandas.read_csv(\"titanic.csv\")\n",
    "titanic_data"
   ]
  },
  {
   "cell_type": "code",
   "execution_count": 1,
   "id": "f0bb00de",
   "metadata": {},
   "outputs": [
    {
     "ename": "SyntaxError",
     "evalue": "invalid syntax (1600859473.py, line 13)",
     "output_type": "error",
     "traceback": [
      "\u001b[1;36m  Cell \u001b[1;32mIn [1], line 13\u001b[1;36m\u001b[0m\n\u001b[1;33m    corr_heatmap =\u001b[0m\n\u001b[1;37m                   ^\u001b[0m\n\u001b[1;31mSyntaxError\u001b[0m\u001b[1;31m:\u001b[0m invalid syntax\n"
     ]
    }
   ],
   "source": [
    "\n",
    "\n",
    "# Step 1: Create a heatmap showing the correlation between the following features: survival, pclass, sex, age, and fare \n",
    "\n",
    "titanic_features = titanic_data[[\"Survived\", \"PassengerId\", \"Sex\", \"Age\", \"fare\"]]\n",
    "corr_heatmap = \n",
    "\n",
    "# Step 2: Create a bar graph that illustrates how many passengers fell into each of these age ranges: 0 - 16, 17 - 25, 26 -40, 41 - 59, 60 or older\n",
    "age_group_chart = \n",
    "\n",
    "# Step 3: Create a line graph showing the average survival percentage of each of the previous age groups\n",
    "survival_age_pers = \n",
    "\n",
    "# Step 4: Create a pie chart that shows the percentage of survivors that were male and the percentage of survivors that were female\n",
    "survivors = \n",
    "\n",
    "# Step 5: Create a histogram that shows the distribution of passengers between the three embarking locations: C (Cherbourg), Q (Queenstown), S (Southampton)\n",
    "titanic_description = "
   ]
  }
 ],
 "metadata": {
  "kernelspec": {
   "display_name": "Python 3 (ipykernel)",
   "language": "python",
   "name": "python3"
  },
  "language_info": {
   "codemirror_mode": {
    "name": "ipython",
    "version": 3
   },
   "file_extension": ".py",
   "mimetype": "text/x-python",
   "name": "python",
   "nbconvert_exporter": "python",
   "pygments_lexer": "ipython3",
   "version": "3.10.7"
  }
 },
 "nbformat": 4,
 "nbformat_minor": 5
}
